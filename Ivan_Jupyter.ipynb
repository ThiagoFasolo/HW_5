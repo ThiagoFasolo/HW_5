{
 "cells": [
  {
   "cell_type": "code",
   "execution_count": 1,
   "id": "initial_id",
   "metadata": {
    "collapsed": true,
    "ExecuteTime": {
     "end_time": "2024-11-16T22:32:08.221066800Z",
     "start_time": "2024-11-16T22:32:00.811770200Z"
    }
   },
   "outputs": [],
   "source": [
    "import numpy as np\n",
    "import pandas as pd"
   ]
  },
  {
   "cell_type": "code",
   "outputs": [],
   "source": [
    "# Create random assignment matrix\n",
    "array = np.random.randint(0, 2, size=(len(sect_n), len(tas_n)))"
   ],
   "metadata": {
    "collapsed": false
   },
   "id": "22b4e02dfa8bddb7"
  },
  {
   "cell_type": "code",
   "outputs": [
    {
     "name": "stdout",
     "output_type": "stream",
     "text": [
      "Original Array:\n",
      " [[0 1 0]\n",
      " [1 0 1]\n",
      " [0 1 1]]\n",
      "Flipped Array:\n",
      " [[0 1 1]\n",
      " [1 0 1]\n",
      " [0 1 1]]\n"
     ]
    }
   ],
   "source": [
    "import numpy as np\n",
    "\n",
    "def flip_random_indices(array, x_amount):\n",
    "    # Generate x_amount unique random indices\n",
    "    indices = np.random.choice(array.size, x_amount, replace=False)\n",
    "    array[indices] = 1 - array[indices]\n",
    "    return array\n",
    "\n",
    "# Example usage\n",
    "array = np.array([[0, 1, 0], [1, 0, 1], [0, 1, 1]])\n",
    "x_amount = 1  # Number of entries to flip\n",
    "\n",
    "flipped_array = flip_random_indices(array, x_amount)\n",
    "print(\"Original Array:\\n\", array)\n",
    "print(\"Flipped Array:\\n\", flipped_array)\n"
   ],
   "metadata": {
    "collapsed": false,
    "ExecuteTime": {
     "end_time": "2024-11-17T10:52:21.774242600Z",
     "start_time": "2024-11-17T10:52:21.761660400Z"
    }
   },
   "id": "b51be139357037de",
   "execution_count": 104
  },
  {
   "cell_type": "code",
   "outputs": [
    {
     "data": {
      "text/plain": "array([3, 0, 2, 1])"
     },
     "execution_count": 109,
     "metadata": {},
     "output_type": "execute_result"
    }
   ],
   "source": [
    "sol = np.array([[0,0],[0,0]])\n",
    "num_changes = 4\n",
    "a = np.random.choice(sol.size, num_changes, replace=False)\n",
    "a"
   ],
   "metadata": {
    "collapsed": false,
    "ExecuteTime": {
     "end_time": "2024-11-17T11:56:26.107972900Z",
     "start_time": "2024-11-17T11:56:26.096389Z"
    }
   },
   "id": "45f609c03c31d8bb",
   "execution_count": 109
  },
  {
   "cell_type": "code",
   "outputs": [],
   "source": [],
   "metadata": {
    "collapsed": false
   },
   "id": "14cc30563e2138e7"
  }
 ],
 "metadata": {
  "kernelspec": {
   "display_name": "Python 3",
   "language": "python",
   "name": "python3"
  },
  "language_info": {
   "codemirror_mode": {
    "name": "ipython",
    "version": 2
   },
   "file_extension": ".py",
   "mimetype": "text/x-python",
   "name": "python",
   "nbconvert_exporter": "python",
   "pygments_lexer": "ipython2",
   "version": "2.7.6"
  }
 },
 "nbformat": 4,
 "nbformat_minor": 5
}
