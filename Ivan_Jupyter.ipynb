{
 "cells": [
  {
   "cell_type": "code",
   "execution_count": 1,
   "id": "initial_id",
   "metadata": {
    "collapsed": true,
    "ExecuteTime": {
     "end_time": "2024-11-18T03:07:08.756870100Z",
     "start_time": "2024-11-18T03:07:08.556424800Z"
    }
   },
   "outputs": [],
   "source": [
    "from itertools import product\n",
    "import numpy as np"
   ]
  },
  {
   "cell_type": "code",
   "outputs": [],
   "source": [
    "from criterias import overalloc, time_conflicts, undersupport, unwilling, unpreffered, testfiles\n",
    "from criterias import tas_n, sect_n\n",
    "from agents import mutating_agent, min_agent, min_agent_ran, add_preferred_courses\n",
    "from profiler import Profiler, profile\n",
    "from evo import Evo"
   ],
   "metadata": {
    "collapsed": false,
    "ExecuteTime": {
     "end_time": "2024-11-18T03:07:09.423863100Z",
     "start_time": "2024-11-18T03:07:08.749858900Z"
    }
   },
   "id": "d0eabf616604cefa",
   "execution_count": 2
  },
  {
   "cell_type": "code",
   "outputs": [],
   "source": [
    "global tas_n\n",
    "global sect_n"
   ],
   "metadata": {
    "collapsed": false,
    "ExecuteTime": {
     "end_time": "2024-11-18T03:07:20.825424100Z",
     "start_time": "2024-11-18T03:07:20.800021Z"
    }
   },
   "id": "ec116225ca28ee0a",
   "execution_count": 3
  },
  {
   "cell_type": "code",
   "outputs": [],
   "source": [
    "# sect_n"
   ],
   "metadata": {
    "collapsed": false,
    "ExecuteTime": {
     "end_time": "2024-11-18T03:07:45.460860200Z",
     "start_time": "2024-11-18T03:07:45.432537200Z"
    }
   },
   "id": "c1bcb9a0fa0cd6e",
   "execution_count": 6
  },
  {
   "cell_type": "code",
   "outputs": [],
   "source": [
    "@profile\n",
    "def find_conflicts(assignment, conflicting_labs):\n",
    "    conflicts = []\n",
    "\n",
    "    # Iterate over each group of conflicting labs\n",
    "    for conflict_group in conflicting_labs:\n",
    "        # Sum the assignments in the conflicting labs\n",
    "        sub_matrix = assignment[:, conflict_group]  # Selecting columns for the labs\n",
    "        conflicts_sum = np.sum(sub_matrix, axis=1)  # Sum along the columns now to get sum per TA\n",
    "\n",
    "        # Identify TAs with conflicts\n",
    "        # Conflict occurs if a TA is assigned to more than one lab in the group\n",
    "        conflict_indices = np.where(conflicts_sum > 1)[0]  # TAs indices with conflicts\n",
    "\n",
    "        # Append conflicts for each TA\n",
    "        for ta_index in conflict_indices:\n",
    "            # Find specific labs where the TA is assigned within this conflict group\n",
    "            assigned_labs = [lab for lab in conflict_group if assignment[ta_index, lab] == 1]\n",
    "            conflicts.append([(ta_index, lab) for lab in assigned_labs])\n",
    "\n",
    "    return conflicts\n",
    "\n",
    "@profile\n",
    "def generate_variants(base_matrix, conflicts):\n",
    "    # Initialize the list of all variant matrices\n",
    "    variants = []\n",
    "    \n",
    "    # Create a list of lists, where each sublist contains all possible configurations for each conflict group\n",
    "    all_combinations = []\n",
    "    \n",
    "    for conflict_group in conflicts:\n",
    "        group_combinations = []\n",
    "        for coord in conflict_group:\n",
    "            # Create a new copy of the base matrix for each possibility\n",
    "            temp_matrix = base_matrix.copy()\n",
    "            # Set all conflicted coordinates to 0\n",
    "            for c in conflict_group:\n",
    "                temp_matrix[c[0], c[1]] = 0\n",
    "            # Set the current coordinate to 1\n",
    "            temp_matrix[coord[0], coord[1]] = 1\n",
    "            group_combinations.append(temp_matrix)\n",
    "        all_combinations.append(group_combinations)\n",
    "    \n",
    "    # Generate the product of all combinations across all conflict groups\n",
    "    for combination in product(*all_combinations):\n",
    "        # Combine matrices from each group into a single matrix\n",
    "        combined_matrix = sum(combination)\n",
    "        # Using 'minimum' to avoid overlapping 1's going beyond 1, if any\n",
    "        combined_matrix = np.minimum(combined_matrix, 1)\n",
    "        variants.append(combined_matrix)\n",
    "\n",
    "    return variants\n",
    "\n",
    "@ profile\n",
    "def create_prefs():\n",
    "    '''\n",
    "    create all possible combinations of preferene matrixes where everyone is willing\n",
    "    '''\n",
    "    \n",
    "    # Create solution where everyone has their preferences\n",
    "    pref_sol = tas_n[:, 2:]\n",
    "    # Replace all 1s and 2s with 0s; Replace all 3s with 1s\n",
    "    pref_sol[(pref_sol == 1) | (pref_sol == 2)] = 0\n",
    "    pref_sol[pref_sol == 3] = 1\n",
    "    \n",
    "    # Find the Labs with time conflicts:\n",
    "    conflicting_labs = {}\n",
    "    for lab_id, time_id in sect_n[:, [0,1]]:\n",
    "        if time_id in conflicting_labs:\n",
    "            conflicting_labs[time_id].append(lab_id)\n",
    "        else:\n",
    "            conflicting_labs[time_id] = [lab_id]\n",
    "    conflicting_labs_list = list(conflicting_labs.values())\n",
    "    # Find list of lists of conflicts\n",
    "    conflicts = find_conflicts(pref_sol, conflicting_labs_list)\n",
    "    \n",
    "    # Create all solutions where no one has a time conflict:\n",
    "    return generate_variants(pref_sol, conflicts)"
   ],
   "metadata": {
    "collapsed": false,
    "ExecuteTime": {
     "end_time": "2024-11-18T03:07:50.199722900Z",
     "start_time": "2024-11-18T03:07:50.176666900Z"
    }
   },
   "id": "413c9a9f4777b0e7",
   "execution_count": 7
  },
  {
   "cell_type": "code",
   "outputs": [],
   "source": [
    "'''\n",
    "create all possible combinations of preferene matrixes where everyone is willing\n",
    "'''\n",
    "\n",
    "# Create solution where everyone has their preferences\n",
    "pref_sol = tas_n[:, 2:]\n",
    "# Replace all 1s and 2s with 0s; Replace all 3s with 1s\n",
    "pref_sol[(pref_sol == 1) | (pref_sol == 2)] = 0\n",
    "pref_sol[pref_sol == 3] = 1"
   ],
   "metadata": {
    "collapsed": false,
    "ExecuteTime": {
     "end_time": "2024-11-18T03:08:02.227144800Z",
     "start_time": "2024-11-18T03:08:02.193134600Z"
    }
   },
   "id": "897c0da700490cfa",
   "execution_count": 8
  },
  {
   "cell_type": "code",
   "outputs": [],
   "source": [
    "# Find the Labs with time conflicts:\n",
    "conflicting_labs = {}\n",
    "for lab_id, time_id in sect_n[:, [0,1]]:\n",
    "    if time_id in conflicting_labs:\n",
    "        conflicting_labs[time_id].append(lab_id)\n",
    "    else:\n",
    "        conflicting_labs[time_id] = [lab_id]"
   ],
   "metadata": {
    "collapsed": false,
    "ExecuteTime": {
     "end_time": "2024-11-18T03:08:03.485922600Z",
     "start_time": "2024-11-18T03:08:03.429622700Z"
    }
   },
   "id": "592739940234f86a",
   "execution_count": 9
  },
  {
   "cell_type": "code",
   "outputs": [],
   "source": [
    "conflicting_labs_list = list(conflicting_labs.values())\n",
    "# Find list of lists of conflicts\n",
    "conflicts = find_conflicts(pref_sol, conflicting_labs_list)"
   ],
   "metadata": {
    "collapsed": false,
    "ExecuteTime": {
     "end_time": "2024-11-18T03:08:05.640771500Z",
     "start_time": "2024-11-18T03:08:05.602669300Z"
    }
   },
   "id": "eb1dba083b9ca5de",
   "execution_count": 10
  },
  {
   "cell_type": "code",
   "outputs": [
    {
     "name": "stderr",
     "output_type": "stream",
     "text": [
      "Exception ignored in: <bound method IPythonKernel._clean_thread_parent_frames of <ipykernel.ipkernel.IPythonKernel object at 0x0000021FBAA4A750>>\n",
      "Traceback (most recent call last):\n",
      "  File \"C:\\Users\\ivnsa\\anaconda3\\envs\\ds35\\Lib\\site-packages\\ipykernel\\ipkernel.py\", line 770, in _clean_thread_parent_frames\n",
      "    def _clean_thread_parent_frames(\n",
      "\n",
      "KeyboardInterrupt: \n"
     ]
    },
    {
     "ename": "KeyboardInterrupt",
     "evalue": "",
     "output_type": "error",
     "traceback": [
      "\u001B[1;31m---------------------------------------------------------------------------\u001B[0m",
      "\u001B[1;31mKeyboardInterrupt\u001B[0m                         Traceback (most recent call last)",
      "Cell \u001B[1;32mIn[11], line 2\u001B[0m\n\u001B[0;32m      1\u001B[0m \u001B[38;5;66;03m# Create all solutions where no one has a time conflict:\u001B[39;00m\n\u001B[1;32m----> 2\u001B[0m \u001B[43mgenerate_variants\u001B[49m\u001B[43m(\u001B[49m\u001B[43mpref_sol\u001B[49m\u001B[43m,\u001B[49m\u001B[43m \u001B[49m\u001B[43mconflicts\u001B[49m\u001B[43m)\u001B[49m\n",
      "File \u001B[1;32m~\\Documents\\coursework\\HW_5\\profiler.py:34\u001B[0m, in \u001B[0;36mProfiler.profile.<locals>.wrapper\u001B[1;34m(*args, **kwargs)\u001B[0m\n\u001B[0;32m     32\u001B[0m function_name \u001B[38;5;241m=\u001B[39m \u001B[38;5;28mstr\u001B[39m(f)\u001B[38;5;241m.\u001B[39msplit()[\u001B[38;5;241m1\u001B[39m]\n\u001B[0;32m     33\u001B[0m start \u001B[38;5;241m=\u001B[39m time\u001B[38;5;241m.\u001B[39mtime_ns()\n\u001B[1;32m---> 34\u001B[0m val \u001B[38;5;241m=\u001B[39m \u001B[43mf\u001B[49m\u001B[43m(\u001B[49m\u001B[38;5;241;43m*\u001B[39;49m\u001B[43margs\u001B[49m\u001B[43m,\u001B[49m\u001B[43m \u001B[49m\u001B[38;5;241;43m*\u001B[39;49m\u001B[38;5;241;43m*\u001B[39;49m\u001B[43mkwargs\u001B[49m\u001B[43m)\u001B[49m\n\u001B[0;32m     35\u001B[0m sec \u001B[38;5;241m=\u001B[39m (time\u001B[38;5;241m.\u001B[39mtime_ns() \u001B[38;5;241m-\u001B[39m start) \u001B[38;5;241m/\u001B[39m \u001B[38;5;241m10\u001B[39m\u001B[38;5;241m*\u001B[39m\u001B[38;5;241m*\u001B[39m\u001B[38;5;241m9\u001B[39m\n\u001B[0;32m     36\u001B[0m Profiler\u001B[38;5;241m.\u001B[39m_add(function_name, sec)\n",
      "Cell \u001B[1;32mIn[7], line 47\u001B[0m, in \u001B[0;36mgenerate_variants\u001B[1;34m(base_matrix, conflicts)\u001B[0m\n\u001B[0;32m     44\u001B[0m \u001B[38;5;66;03m# Generate the product of all combinations across all conflict groups\u001B[39;00m\n\u001B[0;32m     45\u001B[0m \u001B[38;5;28;01mfor\u001B[39;00m combination \u001B[38;5;129;01min\u001B[39;00m product(\u001B[38;5;241m*\u001B[39mall_combinations):\n\u001B[0;32m     46\u001B[0m     \u001B[38;5;66;03m# Combine matrices from each group into a single matrix\u001B[39;00m\n\u001B[1;32m---> 47\u001B[0m     combined_matrix \u001B[38;5;241m=\u001B[39m \u001B[38;5;28msum\u001B[39m(combination)\n\u001B[0;32m     48\u001B[0m     \u001B[38;5;66;03m# Using 'minimum' to avoid overlapping 1's going beyond 1, if any\u001B[39;00m\n\u001B[0;32m     49\u001B[0m     combined_matrix \u001B[38;5;241m=\u001B[39m np\u001B[38;5;241m.\u001B[39mminimum(combined_matrix, \u001B[38;5;241m1\u001B[39m)\n",
      "\u001B[1;31mKeyboardInterrupt\u001B[0m: "
     ]
    }
   ],
   "source": [
    "# Create all solutions where no one has a time conflict:\n",
    "generate_variants(pref_sol, conflicts)"
   ],
   "metadata": {
    "collapsed": false,
    "ExecuteTime": {
     "end_time": "2024-11-18T03:11:52.531869500Z",
     "start_time": "2024-11-18T03:08:07.102955900Z"
    }
   },
   "id": "159d680ddf7f0a46",
   "execution_count": 11
  },
  {
   "cell_type": "code",
   "outputs": [
    {
     "ename": "NameError",
     "evalue": "name 'variants' is not defined",
     "output_type": "error",
     "traceback": [
      "\u001B[1;31m---------------------------------------------------------------------------\u001B[0m",
      "\u001B[1;31mNameError\u001B[0m                                 Traceback (most recent call last)",
      "Cell \u001B[1;32mIn[12], line 1\u001B[0m\n\u001B[1;32m----> 1\u001B[0m \u001B[38;5;28mlen\u001B[39m(\u001B[43mvariants\u001B[49m)\n",
      "\u001B[1;31mNameError\u001B[0m: name 'variants' is not defined"
     ]
    }
   ],
   "source": [
    "len(variants)"
   ],
   "metadata": {
    "collapsed": false,
    "ExecuteTime": {
     "end_time": "2024-11-18T03:06:55.676742100Z",
     "start_time": "2024-11-18T03:06:55.656751400Z"
    }
   },
   "id": "120426eeb9fadd03",
   "execution_count": 12
  },
  {
   "cell_type": "code",
   "outputs": [
    {
     "data": {
      "text/plain": "array([[0, 0, 0, 0, 0, 0, 0, 0, 0, 0, 0, 0, 0, 0, 0, 0, 0],\n       [0, 0, 0, 0, 0, 0, 0, 0, 0, 0, 0, 0, 0, 0, 0, 0, 0],\n       [0, 0, 0, 0, 0, 0, 0, 0, 0, 0, 0, 0, 0, 0, 0, 0, 0],\n       [0, 0, 0, 0, 0, 0, 0, 0, 0, 0, 0, 0, 0, 0, 0, 0, 0],\n       [0, 0, 0, 0, 0, 0, 0, 0, 0, 0, 0, 0, 0, 0, 0, 0, 0],\n       [0, 0, 0, 0, 0, 0, 0, 0, 0, 0, 0, 0, 0, 0, 0, 0, 0],\n       [0, 0, 0, 0, 0, 0, 0, 0, 0, 0, 0, 0, 0, 0, 0, 0, 0],\n       [0, 0, 0, 0, 0, 0, 0, 0, 0, 0, 0, 0, 0, 0, 0, 0, 0],\n       [0, 0, 0, 0, 0, 0, 0, 0, 0, 0, 0, 0, 0, 0, 0, 0, 0],\n       [0, 0, 0, 0, 0, 0, 0, 0, 0, 0, 0, 0, 0, 0, 0, 0, 0],\n       [0, 0, 0, 0, 0, 0, 0, 0, 0, 0, 0, 0, 0, 0, 0, 0, 0],\n       [0, 0, 0, 0, 0, 0, 0, 0, 0, 0, 0, 0, 0, 0, 0, 0, 0],\n       [0, 0, 0, 0, 0, 0, 0, 0, 0, 0, 0, 0, 0, 0, 0, 0, 0],\n       [0, 0, 0, 0, 0, 0, 0, 0, 0, 0, 0, 0, 0, 0, 0, 0, 0],\n       [0, 0, 0, 0, 0, 0, 0, 0, 0, 0, 0, 0, 0, 0, 0, 0, 0],\n       [0, 0, 0, 0, 0, 0, 0, 0, 0, 0, 0, 0, 0, 0, 0, 0, 0],\n       [0, 0, 0, 0, 0, 0, 0, 0, 0, 0, 0, 0, 0, 0, 0, 0, 0],\n       [0, 0, 0, 0, 0, 0, 0, 0, 0, 0, 0, 0, 0, 0, 0, 0, 0],\n       [0, 0, 0, 0, 0, 0, 0, 0, 0, 0, 0, 0, 0, 0, 0, 0, 0],\n       [0, 0, 0, 0, 0, 0, 0, 0, 0, 0, 0, 0, 0, 0, 0, 0, 0],\n       [0, 0, 0, 0, 0, 0, 0, 0, 0, 0, 0, 0, 0, 0, 0, 0, 0],\n       [0, 0, 0, 0, 0, 0, 0, 0, 0, 0, 0, 0, 0, 0, 0, 0, 0],\n       [0, 0, 0, 0, 0, 0, 0, 0, 0, 0, 0, 0, 0, 0, 0, 0, 0],\n       [0, 0, 0, 0, 0, 0, 0, 0, 0, 0, 0, 0, 0, 0, 0, 0, 0],\n       [0, 0, 0, 0, 0, 0, 0, 0, 0, 0, 0, 0, 0, 0, 0, 0, 0],\n       [0, 0, 0, 0, 0, 0, 0, 0, 0, 0, 0, 0, 0, 0, 0, 0, 0],\n       [0, 0, 0, 0, 0, 0, 0, 0, 0, 0, 0, 0, 0, 0, 0, 0, 0],\n       [0, 0, 0, 0, 0, 0, 0, 0, 0, 0, 0, 0, 0, 0, 0, 0, 0],\n       [0, 0, 0, 0, 0, 0, 0, 0, 0, 0, 0, 0, 0, 0, 0, 0, 0],\n       [0, 0, 0, 0, 0, 0, 0, 0, 0, 0, 0, 0, 0, 0, 0, 0, 0],\n       [0, 0, 0, 0, 0, 0, 0, 0, 0, 0, 0, 0, 0, 0, 0, 0, 0],\n       [0, 0, 0, 0, 0, 0, 0, 0, 0, 0, 0, 0, 0, 0, 0, 0, 0],\n       [0, 0, 0, 0, 0, 0, 0, 0, 0, 0, 0, 0, 0, 0, 0, 0, 0],\n       [0, 0, 0, 0, 0, 0, 0, 0, 0, 0, 0, 0, 0, 0, 0, 0, 0],\n       [0, 0, 0, 0, 0, 0, 0, 0, 0, 0, 0, 0, 0, 0, 0, 0, 0],\n       [0, 0, 0, 0, 0, 0, 0, 0, 0, 0, 0, 0, 0, 0, 0, 0, 0],\n       [0, 0, 0, 0, 0, 0, 0, 0, 0, 0, 0, 0, 0, 0, 0, 0, 0],\n       [0, 0, 0, 0, 0, 0, 0, 0, 0, 0, 0, 0, 0, 0, 0, 0, 0],\n       [0, 0, 0, 0, 0, 0, 0, 0, 0, 0, 0, 0, 0, 0, 0, 0, 0],\n       [0, 0, 0, 0, 0, 0, 0, 0, 0, 0, 0, 0, 0, 0, 0, 0, 0],\n       [0, 0, 0, 0, 0, 0, 0, 0, 0, 0, 0, 0, 0, 0, 0, 0, 0],\n       [0, 0, 0, 0, 0, 0, 0, 0, 0, 0, 0, 0, 0, 0, 0, 0, 0],\n       [0, 0, 0, 0, 0, 0, 0, 0, 0, 0, 0, 0, 0, 0, 0, 0, 0]], dtype=int64)"
     },
     "execution_count": 60,
     "metadata": {},
     "output_type": "execute_result"
    }
   ],
   "source": [
    "pref_sol = tas_n[:, 2:]\n",
    "pref_sol"
   ],
   "metadata": {
    "collapsed": false,
    "ExecuteTime": {
     "end_time": "2024-11-18T02:52:50.044926300Z",
     "start_time": "2024-11-18T02:52:49.971076200Z"
    }
   },
   "id": "9190d23a96e12933",
   "execution_count": 60
  },
  {
   "cell_type": "code",
   "outputs": [
    {
     "data": {
      "text/plain": "    section  daytime  min_ta\n0         0        0       3\n1         1        1       3\n2         2        1       2\n3         3        1       2\n4         4        2       3\n5         5        2       3\n6         6        3       2\n7         7        3       2\n8         8        3       3\n9         9        4       3\n10       10        5       2\n11       11        5       3\n12       12        0       2\n13       13        0       2\n14       14        0       2\n15       15        6       3\n16       16        6       3",
      "text/html": "<div>\n<style scoped>\n    .dataframe tbody tr th:only-of-type {\n        vertical-align: middle;\n    }\n\n    .dataframe tbody tr th {\n        vertical-align: top;\n    }\n\n    .dataframe thead th {\n        text-align: right;\n    }\n</style>\n<table border=\"1\" class=\"dataframe\">\n  <thead>\n    <tr style=\"text-align: right;\">\n      <th></th>\n      <th>section</th>\n      <th>daytime</th>\n      <th>min_ta</th>\n    </tr>\n  </thead>\n  <tbody>\n    <tr>\n      <th>0</th>\n      <td>0</td>\n      <td>0</td>\n      <td>3</td>\n    </tr>\n    <tr>\n      <th>1</th>\n      <td>1</td>\n      <td>1</td>\n      <td>3</td>\n    </tr>\n    <tr>\n      <th>2</th>\n      <td>2</td>\n      <td>1</td>\n      <td>2</td>\n    </tr>\n    <tr>\n      <th>3</th>\n      <td>3</td>\n      <td>1</td>\n      <td>2</td>\n    </tr>\n    <tr>\n      <th>4</th>\n      <td>4</td>\n      <td>2</td>\n      <td>3</td>\n    </tr>\n    <tr>\n      <th>5</th>\n      <td>5</td>\n      <td>2</td>\n      <td>3</td>\n    </tr>\n    <tr>\n      <th>6</th>\n      <td>6</td>\n      <td>3</td>\n      <td>2</td>\n    </tr>\n    <tr>\n      <th>7</th>\n      <td>7</td>\n      <td>3</td>\n      <td>2</td>\n    </tr>\n    <tr>\n      <th>8</th>\n      <td>8</td>\n      <td>3</td>\n      <td>3</td>\n    </tr>\n    <tr>\n      <th>9</th>\n      <td>9</td>\n      <td>4</td>\n      <td>3</td>\n    </tr>\n    <tr>\n      <th>10</th>\n      <td>10</td>\n      <td>5</td>\n      <td>2</td>\n    </tr>\n    <tr>\n      <th>11</th>\n      <td>11</td>\n      <td>5</td>\n      <td>3</td>\n    </tr>\n    <tr>\n      <th>12</th>\n      <td>12</td>\n      <td>0</td>\n      <td>2</td>\n    </tr>\n    <tr>\n      <th>13</th>\n      <td>13</td>\n      <td>0</td>\n      <td>2</td>\n    </tr>\n    <tr>\n      <th>14</th>\n      <td>14</td>\n      <td>0</td>\n      <td>2</td>\n    </tr>\n    <tr>\n      <th>15</th>\n      <td>15</td>\n      <td>6</td>\n      <td>3</td>\n    </tr>\n    <tr>\n      <th>16</th>\n      <td>16</td>\n      <td>6</td>\n      <td>3</td>\n    </tr>\n  </tbody>\n</table>\n</div>"
     },
     "execution_count": 17,
     "metadata": {},
     "output_type": "execute_result"
    }
   ],
   "source": [
    "sect"
   ],
   "metadata": {
    "collapsed": false,
    "ExecuteTime": {
     "end_time": "2024-11-18T01:59:44.418564600Z",
     "start_time": "2024-11-18T01:59:44.395491Z"
    }
   },
   "id": "4dc1672e121b6cb5",
   "execution_count": 17
  },
  {
   "cell_type": "code",
   "outputs": [
    {
     "name": "stdout",
     "output_type": "stream",
     "text": [
      "Variant 1:\n",
      "[[0. 1. 0.]\n",
      " [0. 1. 0.]\n",
      " [0. 1. 0.]]\n",
      "\n",
      "Variant 2:\n",
      "[[0. 1. 0.]\n",
      " [0. 0. 0.]\n",
      " [0. 1. 0.]]\n",
      "\n",
      "Variant 3:\n",
      "[[0. 1. 0.]\n",
      " [0. 1. 0.]\n",
      " [0. 1. 0.]]\n",
      "\n",
      "Variant 4:\n",
      "[[0. 1. 0.]\n",
      " [0. 1. 0.]\n",
      " [0. 1. 0.]]\n"
     ]
    }
   ],
   "source": [
    "# Example usage\n",
    "base_matrix = np.zeros((3, 3))  # Example base matrix\n",
    "base_matrix[0, 1] = 1\n",
    "base_matrix[1, 1] = 1\n",
    "base_matrix[2, 1] = 1\n",
    "\n",
    "conflicts = [[(0, 1), (1, 1)], [(1, 1), (2, 1)]]\n",
    "\n",
    "variants = generate_variants(base_matrix, conflicts)\n",
    "\n",
    "# Print variants\n",
    "for i, var in enumerate(variants):\n",
    "    print(f\"Variant {i+1}:\\n{var}\\n\")"
   ],
   "metadata": {
    "collapsed": false,
    "ExecuteTime": {
     "end_time": "2024-11-18T02:39:43.665089300Z",
     "start_time": "2024-11-18T02:39:43.233788200Z"
    }
   },
   "id": "c8af1474564a9c5",
   "execution_count": 33
  },
  {
   "cell_type": "code",
   "outputs": [
    {
     "data": {
      "text/plain": "array([[ 0,  0],\n       [ 1,  1],\n       [ 2,  1],\n       [ 3,  1],\n       [ 4,  2],\n       [ 5,  2],\n       [ 6,  3],\n       [ 7,  3],\n       [ 8,  3],\n       [ 9,  4],\n       [10,  5],\n       [11,  5],\n       [12,  0],\n       [13,  0],\n       [14,  0],\n       [15,  6],\n       [16,  6]], dtype=int64)"
     },
     "execution_count": 22,
     "metadata": {},
     "output_type": "execute_result"
    }
   ],
   "source": [
    "sect_n[:, [0,1]]"
   ],
   "metadata": {
    "collapsed": false,
    "ExecuteTime": {
     "end_time": "2024-11-18T02:06:12.817473200Z",
     "start_time": "2024-11-18T02:06:12.785379400Z"
    }
   },
   "id": "17b6441dee0db7e5",
   "execution_count": 22
  },
  {
   "cell_type": "code",
   "outputs": [],
   "source": [],
   "metadata": {
    "collapsed": false
   },
   "id": "e81e3b33421590ec"
  },
  {
   "cell_type": "code",
   "outputs": [
    {
     "data": {
      "text/plain": "array([[0, 0, 0, 0, 0, 1, 0, 0, 1, 0, 0, 0, 0, 0, 0, 0, 0],\n       [0, 0, 0, 0, 0, 0, 0, 0, 0, 0, 0, 0, 0, 0, 0, 0, 0],\n       [0, 0, 0, 0, 0, 0, 1, 0, 1, 0, 0, 0, 0, 0, 0, 0, 0],\n       [0, 0, 0, 0, 0, 0, 0, 0, 0, 0, 0, 0, 0, 0, 1, 0, 0],\n       [0, 0, 0, 0, 0, 0, 0, 1, 0, 0, 0, 0, 0, 0, 0, 0, 0],\n       [0, 0, 0, 0, 0, 0, 0, 0, 0, 0, 0, 0, 0, 0, 0, 0, 0],\n       [0, 0, 0, 0, 0, 0, 0, 0, 0, 0, 0, 0, 1, 1, 1, 1, 0],\n       [0, 0, 1, 1, 0, 0, 0, 0, 0, 0, 0, 0, 0, 0, 0, 1, 0],\n       [1, 0, 0, 0, 0, 0, 0, 0, 0, 0, 0, 0, 1, 0, 0, 0, 0],\n       [0, 1, 1, 1, 0, 0, 0, 0, 0, 0, 1, 1, 0, 0, 0, 0, 0],\n       [0, 0, 0, 0, 0, 1, 1, 0, 0, 0, 1, 0, 1, 0, 0, 0, 0],\n       [0, 0, 0, 0, 0, 0, 0, 0, 0, 0, 0, 0, 0, 0, 1, 0, 0],\n       [0, 0, 0, 0, 0, 0, 0, 0, 0, 0, 0, 0, 0, 0, 0, 0, 0],\n       [0, 0, 0, 0, 0, 0, 0, 1, 0, 0, 0, 0, 0, 0, 0, 1, 1],\n       [0, 0, 0, 0, 0, 0, 0, 0, 0, 0, 0, 0, 1, 1, 0, 0, 0],\n       [0, 0, 1, 0, 0, 0, 0, 0, 0, 0, 1, 1, 0, 0, 0, 0, 0],\n       [1, 0, 0, 0, 0, 1, 0, 0, 0, 0, 0, 0, 1, 0, 1, 0, 0],\n       [0, 0, 0, 0, 1, 0, 0, 0, 0, 0, 0, 0, 0, 0, 0, 0, 0],\n       [0, 1, 0, 0, 0, 0, 0, 0, 0, 1, 0, 0, 0, 0, 0, 0, 0],\n       [0, 0, 0, 0, 0, 0, 0, 0, 0, 0, 1, 0, 1, 0, 0, 0, 0],\n       [1, 0, 0, 0, 1, 0, 0, 0, 0, 0, 0, 0, 0, 0, 0, 0, 0],\n       [0, 0, 0, 0, 0, 1, 0, 0, 0, 0, 0, 0, 0, 0, 0, 0, 0],\n       [1, 0, 0, 0, 1, 0, 0, 0, 0, 0, 0, 0, 1, 0, 0, 0, 0],\n       [0, 0, 0, 0, 0, 0, 0, 0, 0, 0, 0, 0, 0, 0, 0, 1, 1],\n       [0, 0, 0, 0, 0, 0, 0, 0, 0, 0, 1, 1, 0, 0, 0, 1, 1],\n       [1, 0, 0, 0, 0, 0, 0, 1, 0, 0, 0, 0, 1, 1, 1, 0, 0],\n       [0, 1, 0, 0, 0, 0, 0, 0, 0, 1, 0, 0, 0, 0, 0, 0, 0],\n       [0, 0, 0, 0, 0, 1, 0, 0, 0, 0, 1, 0, 1, 0, 0, 0, 0],\n       [0, 0, 0, 0, 0, 0, 0, 0, 0, 0, 0, 0, 1, 1, 0, 0, 0],\n       [0, 0, 0, 0, 1, 1, 0, 0, 0, 0, 0, 0, 0, 0, 0, 0, 0],\n       [0, 0, 1, 1, 0, 0, 0, 0, 0, 0, 1, 0, 1, 0, 0, 1, 1],\n       [0, 0, 1, 0, 1, 0, 0, 0, 0, 0, 0, 0, 0, 0, 0, 0, 0],\n       [0, 0, 1, 0, 1, 1, 0, 0, 0, 0, 1, 1, 0, 0, 0, 0, 0],\n       [0, 0, 0, 0, 0, 0, 1, 0, 0, 0, 0, 0, 1, 1, 1, 0, 0],\n       [0, 0, 0, 0, 0, 0, 0, 0, 0, 0, 1, 0, 0, 0, 0, 0, 0],\n       [0, 0, 0, 0, 0, 0, 0, 0, 0, 0, 0, 0, 0, 0, 0, 0, 0],\n       [0, 0, 0, 0, 0, 0, 0, 0, 0, 0, 0, 0, 1, 0, 0, 0, 0],\n       [0, 1, 0, 0, 0, 0, 0, 0, 0, 0, 0, 0, 0, 0, 0, 0, 0],\n       [1, 0, 0, 0, 0, 0, 0, 0, 0, 0, 0, 0, 0, 0, 0, 0, 0],\n       [0, 0, 1, 1, 1, 0, 0, 0, 0, 0, 1, 0, 0, 0, 0, 0, 0],\n       [1, 0, 0, 0, 0, 0, 0, 0, 0, 0, 0, 0, 0, 0, 0, 0, 0],\n       [0, 0, 0, 0, 0, 0, 0, 0, 0, 0, 1, 0, 0, 0, 0, 0, 0],\n       [0, 0, 0, 0, 0, 0, 0, 0, 0, 0, 0, 0, 0, 0, 0, 0, 0]], dtype=int64)"
     },
     "execution_count": 13,
     "metadata": {},
     "output_type": "execute_result"
    }
   ],
   "source": [
    "tas_n[:, 2:]"
   ],
   "metadata": {
    "collapsed": false,
    "ExecuteTime": {
     "end_time": "2024-11-18T01:59:16.928823100Z",
     "start_time": "2024-11-18T01:59:16.895757200Z"
    }
   },
   "id": "4d8806e04fb9c8c4",
   "execution_count": 13
  },
  {
   "cell_type": "code",
   "outputs": [],
   "source": [],
   "metadata": {
    "collapsed": false
   },
   "id": "b94f80168bc81bd1"
  }
 ],
 "metadata": {
  "kernelspec": {
   "display_name": "Python 3",
   "language": "python",
   "name": "python3"
  },
  "language_info": {
   "codemirror_mode": {
    "name": "ipython",
    "version": 2
   },
   "file_extension": ".py",
   "mimetype": "text/x-python",
   "name": "python",
   "nbconvert_exporter": "python",
   "pygments_lexer": "ipython2",
   "version": "2.7.6"
  }
 },
 "nbformat": 4,
 "nbformat_minor": 5
}
