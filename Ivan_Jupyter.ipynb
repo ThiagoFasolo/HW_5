{
 "cells": [
  {
   "cell_type": "code",
   "execution_count": 136,
   "id": "initial_id",
   "metadata": {
    "collapsed": true,
    "ExecuteTime": {
     "end_time": "2024-11-17T21:09:49.878077600Z",
     "start_time": "2024-11-17T21:09:49.863558600Z"
    }
   },
   "outputs": [],
   "source": [
    "import pandas as pd\n",
    "from readfile import read_tasect\n",
    "import numpy as np"
   ]
  },
  {
   "cell_type": "code",
   "outputs": [],
   "source": [
    "from criterias import overalloc, time_conflicts, undersupport, unwilling, unpreffered, testfiles\n",
    "from criterias import tas_n, sect_n\n",
    "from agents import mutating_agent, min_agent, min_agent_ran, add_preferred_courses\n",
    "from evo import Evo"
   ],
   "metadata": {
    "collapsed": false,
    "ExecuteTime": {
     "end_time": "2024-11-17T21:11:04.644410600Z",
     "start_time": "2024-11-17T21:11:04.611038300Z"
    }
   },
   "id": "d0eabf616604cefa",
   "execution_count": 138
  },
  {
   "cell_type": "code",
   "outputs": [],
   "source": [
    "def add_preferred_courses(sol):\n",
    "    \"\"\"\n",
    "    Add preferred courses to the solution matrix for each TA without conflicts.\n",
    "\n",
    "    Parameters:\n",
    "    sol (np.array): A 2D array where rows represent TAs and columns represent courses (1 if assigned, 0 if not).\n",
    "    preferred_courses (dict): A dictionary mapping each TA (row index) to a list of preferred course indices (column indices).\n",
    "\n",
    "    Returns:\n",
    "    np.array: Updated solution matrix with preferred courses added where possible.\n",
    "    \"\"\"\n",
    "    # Iterate over each TA and their preferred courses\n",
    "    for ta_index, courses in enumerate(tas_n[:, 2:]):\n",
    "        # Check if the TA already has an assigned course\n",
    "        if not np.any(sol[ta_index, :]):  # Ensure no other courses are assigned to this TA\n",
    "            for course_index in courses:\n",
    "                # Assign the first available preferred course without conflict\n",
    "                sol[ta_index, course_index] = 1\n",
    "                break  # Stop after assigning the first preferred course\n",
    "\n",
    "    return sol"
   ],
   "metadata": {
    "collapsed": false,
    "ExecuteTime": {
     "end_time": "2024-11-17T21:14:09.014092100Z",
     "start_time": "2024-11-17T21:14:08.996581400Z"
    }
   },
   "id": "b51be139357037de",
   "execution_count": 140
  },
  {
   "cell_type": "code",
   "outputs": [
    {
     "data": {
      "text/plain": "array([[1, 1, 1, 1, 2, 3, 1, 2, 3, 2, 1, 1, 1, 1, 1, 1, 1],\n       [1, 1, 1, 1, 1, 1, 1, 1, 1, 1, 1, 1, 1, 1, 1, 1, 1],\n       [1, 1, 1, 1, 1, 1, 3, 2, 3, 1, 1, 1, 1, 1, 1, 2, 2],\n       [1, 1, 1, 1, 2, 2, 1, 1, 1, 1, 1, 1, 2, 2, 3, 1, 1],\n       [1, 1, 1, 1, 2, 2, 2, 3, 2, 1, 1, 1, 1, 1, 1, 1, 1],\n       [2, 1, 1, 1, 2, 2, 1, 1, 1, 1, 1, 1, 2, 2, 2, 1, 1],\n       [1, 1, 1, 1, 2, 2, 2, 2, 2, 1, 1, 1, 3, 3, 3, 3, 2],\n       [1, 2, 3, 3, 1, 1, 1, 1, 1, 2, 1, 1, 1, 1, 1, 3, 2],\n       [3, 1, 1, 1, 1, 1, 2, 2, 1, 1, 1, 1, 3, 2, 2, 1, 1],\n       [1, 3, 3, 3, 1, 1, 1, 1, 1, 1, 3, 3, 1, 1, 1, 1, 1],\n       [2, 2, 1, 1, 1, 3, 3, 1, 1, 1, 3, 1, 3, 1, 1, 1, 1],\n       [2, 2, 2, 1, 1, 2, 2, 2, 1, 1, 1, 1, 1, 1, 3, 1, 1],\n       [2, 1, 1, 1, 1, 1, 1, 1, 1, 1, 1, 1, 2, 2, 2, 1, 1],\n       [1, 1, 1, 1, 1, 1, 1, 3, 1, 1, 1, 1, 2, 2, 2, 3, 3],\n       [2, 1, 1, 1, 1, 1, 1, 1, 1, 1, 1, 1, 3, 3, 2, 1, 1],\n       [1, 2, 3, 2, 2, 1, 1, 1, 1, 1, 3, 3, 1, 1, 1, 1, 1],\n       [3, 1, 1, 1, 1, 3, 1, 1, 1, 1, 1, 1, 3, 1, 3, 1, 1],\n       [1, 1, 1, 1, 3, 2, 1, 1, 1, 1, 1, 1, 1, 1, 1, 1, 1],\n       [1, 3, 2, 1, 1, 2, 1, 1, 1, 3, 1, 1, 1, 1, 1, 1, 1],\n       [1, 1, 2, 1, 1, 2, 1, 1, 1, 1, 3, 2, 3, 2, 2, 1, 1],\n       [3, 1, 2, 1, 3, 1, 1, 1, 1, 1, 1, 1, 1, 1, 1, 1, 1],\n       [1, 1, 1, 1, 2, 3, 2, 2, 2, 1, 1, 1, 1, 1, 1, 1, 1],\n       [3, 1, 1, 1, 3, 2, 1, 1, 1, 2, 1, 1, 3, 2, 2, 1, 1],\n       [1, 1, 1, 1, 1, 1, 2, 2, 2, 1, 1, 1, 2, 1, 1, 3, 3],\n       [1, 1, 1, 1, 1, 1, 1, 1, 1, 1, 3, 3, 1, 1, 1, 3, 3],\n       [3, 1, 1, 1, 1, 1, 2, 3, 2, 1, 1, 1, 3, 3, 3, 2, 2],\n       [1, 3, 2, 2, 2, 2, 2, 2, 2, 3, 1, 1, 1, 1, 1, 1, 1],\n       [2, 1, 1, 1, 1, 3, 1, 1, 1, 1, 3, 1, 3, 1, 2, 1, 1],\n       [1, 1, 1, 1, 1, 1, 1, 1, 1, 1, 1, 1, 3, 3, 1, 1, 1],\n       [1, 1, 1, 1, 3, 3, 2, 1, 1, 1, 1, 1, 1, 1, 1, 2, 1],\n       [2, 2, 3, 3, 2, 2, 1, 1, 1, 1, 3, 2, 3, 2, 2, 3, 3],\n       [1, 1, 3, 1, 3, 1, 1, 2, 1, 1, 2, 2, 1, 1, 1, 1, 1],\n       [2, 2, 3, 2, 3, 3, 1, 1, 1, 1, 3, 3, 2, 2, 1, 1, 1],\n       [1, 1, 1, 1, 1, 1, 3, 2, 2, 1, 1, 1, 3, 3, 3, 1, 1],\n       [1, 1, 1, 1, 1, 2, 1, 1, 1, 1, 3, 2, 2, 2, 2, 1, 1],\n       [1, 1, 1, 1, 1, 1, 2, 2, 2, 1, 1, 1, 1, 1, 1, 1, 1],\n       [2, 1, 1, 1, 1, 1, 1, 1, 1, 1, 1, 1, 3, 2, 2, 1, 1],\n       [2, 3, 2, 1, 1, 1, 1, 1, 1, 1, 2, 2, 2, 1, 1, 1, 1],\n       [3, 1, 1, 1, 1, 1, 1, 1, 1, 1, 2, 2, 2, 2, 2, 2, 2],\n       [1, 2, 3, 3, 3, 2, 1, 1, 1, 1, 3, 2, 1, 1, 1, 1, 1],\n       [3, 1, 1, 1, 2, 2, 1, 1, 1, 1, 1, 1, 2, 2, 2, 2, 2],\n       [1, 1, 1, 1, 1, 1, 1, 1, 1, 1, 3, 2, 1, 1, 1, 2, 2],\n       [1, 1, 1, 1, 1, 1, 1, 1, 1, 1, 1, 1, 1, 1, 1, 1, 1]], dtype=int64)"
     },
     "execution_count": 141,
     "metadata": {},
     "output_type": "execute_result"
    }
   ],
   "source": [
    "tas_n[:, 2:]"
   ],
   "metadata": {
    "collapsed": false,
    "ExecuteTime": {
     "end_time": "2024-11-17T21:21:11.063452500Z",
     "start_time": "2024-11-17T21:21:11.049675500Z"
    }
   },
   "id": "4d8806e04fb9c8c4",
   "execution_count": 141
  },
  {
   "cell_type": "code",
   "outputs": [
    {
     "data": {
      "text/plain": "array([[ 0,  0,  3,  4],\n       [ 1,  1,  3,  4],\n       [ 2,  1,  2,  3],\n       [ 3,  1,  2,  3],\n       [ 4,  2,  3,  4],\n       [ 5,  2,  3,  4],\n       [ 6,  3,  2,  3],\n       [ 7,  3,  2,  3],\n       [ 8,  3,  3,  4],\n       [ 9,  4,  3,  4],\n       [10,  5,  2,  3],\n       [11,  5,  3,  4],\n       [12,  0,  2,  3],\n       [13,  0,  2,  3],\n       [14,  0,  2,  3],\n       [15,  6,  3,  4],\n       [16,  6,  3,  4]], dtype=int64)"
     },
     "execution_count": 142,
     "metadata": {},
     "output_type": "execute_result"
    }
   ],
   "source": [
    "sect_n"
   ],
   "metadata": {
    "collapsed": false,
    "ExecuteTime": {
     "end_time": "2024-11-17T21:23:21.420883400Z",
     "start_time": "2024-11-17T21:23:21.405053100Z"
    }
   },
   "id": "d8bccdde7591abaf",
   "execution_count": 142
  },
  {
   "cell_type": "code",
   "outputs": [],
   "source": [
    "sol = np.array([[0,0],[0,0]])"
   ],
   "metadata": {
    "collapsed": false,
    "ExecuteTime": {
     "end_time": "2024-11-17T21:11:22.365587Z",
     "start_time": "2024-11-17T21:11:22.330870800Z"
    }
   },
   "id": "45f609c03c31d8bb",
   "execution_count": 139
  },
  {
   "cell_type": "code",
   "outputs": [
    {
     "name": "stdout",
     "output_type": "stream",
     "text": [
      "1\n"
     ]
    },
    {
     "data": {
      "text/plain": "array([[0, 0],\n       [1, 0]])"
     },
     "execution_count": 134,
     "metadata": {},
     "output_type": "execute_result"
    }
   ],
   "source": [
    "a = min_agent_ran([sol, sol])\n",
    "a"
   ],
   "metadata": {
    "collapsed": false,
    "ExecuteTime": {
     "end_time": "2024-11-17T21:06:39.714257500Z",
     "start_time": "2024-11-17T21:06:39.702464300Z"
    }
   },
   "id": "87f341ba3d090621",
   "execution_count": 134
  },
  {
   "cell_type": "code",
   "outputs": [],
   "source": [],
   "metadata": {
    "collapsed": false
   },
   "id": "6dae195dd362126"
  }
 ],
 "metadata": {
  "kernelspec": {
   "display_name": "Python 3",
   "language": "python",
   "name": "python3"
  },
  "language_info": {
   "codemirror_mode": {
    "name": "ipython",
    "version": 2
   },
   "file_extension": ".py",
   "mimetype": "text/x-python",
   "name": "python",
   "nbconvert_exporter": "python",
   "pygments_lexer": "ipython2",
   "version": "2.7.6"
  }
 },
 "nbformat": 4,
 "nbformat_minor": 5
}
