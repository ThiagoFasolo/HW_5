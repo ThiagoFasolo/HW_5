{
 "cells": [
  {
   "cell_type": "code",
   "execution_count": 62,
   "id": "initial_id",
   "metadata": {
    "collapsed": true,
    "ExecuteTime": {
     "end_time": "2024-11-13T17:11:07.127231600Z",
     "start_time": "2024-11-13T17:11:07.120548800Z"
    }
   },
   "outputs": [],
   "source": [
    "import numpy as np\n",
    "import pandas as pd"
   ]
  },
  {
   "cell_type": "code",
   "outputs": [],
   "source": [
    "tas = pd.read_csv('tas.csv')\n",
    "sect = pd.read_csv('sections.csv')"
   ],
   "metadata": {
    "collapsed": false,
    "ExecuteTime": {
     "end_time": "2024-11-13T17:11:07.361404600Z",
     "start_time": "2024-11-13T17:11:07.353873Z"
    }
   },
   "id": "469d81eff54af7ad",
   "execution_count": 63
  },
  {
   "cell_type": "code",
   "outputs": [],
   "source": [
    "clean_sect = sect.drop(columns=['instructor', 'location', 'students', 'topic'])\n",
    "clean_sect['daytime'], time_index = pd.factorize(clean_sect['daytime'])"
   ],
   "metadata": {
    "collapsed": false,
    "ExecuteTime": {
     "end_time": "2024-11-13T17:11:07.650991400Z",
     "start_time": "2024-11-13T17:11:07.646929900Z"
    }
   },
   "id": "1b5474f3db0d1992",
   "execution_count": 64
  },
  {
   "cell_type": "code",
   "outputs": [],
   "source": [
    "mapping = {'U':0,'W':1,'P':2}\n",
    "clean_tas = tas.drop(columns=['name'])\n",
    "for col in clean_tas.columns[2:]:\n",
    "    clean_tas[col] = clean_tas[col].map(mapping)"
   ],
   "metadata": {
    "collapsed": false,
    "ExecuteTime": {
     "end_time": "2024-11-13T17:11:08.008315400Z",
     "start_time": "2024-11-13T17:11:07.999078100Z"
    }
   },
   "id": "82ecca4f62adce1d",
   "execution_count": 65
  },
  {
   "cell_type": "code",
   "outputs": [],
   "source": [],
   "metadata": {
    "collapsed": false,
    "ExecuteTime": {
     "end_time": "2024-11-13T17:10:53.136304800Z",
     "start_time": "2024-11-13T17:10:53.132294500Z"
    }
   },
   "id": "ea406a11863feefa",
   "execution_count": 59
  },
  {
   "cell_type": "code",
   "outputs": [],
   "source": [],
   "metadata": {
    "collapsed": false
   },
   "id": "559e1cdc71e9920a"
  }
 ],
 "metadata": {
  "kernelspec": {
   "display_name": "Python 3",
   "language": "python",
   "name": "python3"
  },
  "language_info": {
   "codemirror_mode": {
    "name": "ipython",
    "version": 2
   },
   "file_extension": ".py",
   "mimetype": "text/x-python",
   "name": "python",
   "nbconvert_exporter": "python",
   "pygments_lexer": "ipython2",
   "version": "2.7.6"
  }
 },
 "nbformat": 4,
 "nbformat_minor": 5
}
